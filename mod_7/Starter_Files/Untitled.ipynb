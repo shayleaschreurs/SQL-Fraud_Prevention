{
 "cells": [
  {
   "cell_type": "markdown",
   "id": "8d0580fe-1403-466c-8fef-9060dd998f53",
   "metadata": {},
   "source": [
    "# Credit Card Fraud Analysis"
   ]
  },
  {
   "cell_type": "markdown",
   "id": "1b33c564-6887-4a42-b66b-1ec999896852",
   "metadata": {},
   "source": [
    "### Data Analysis For Cardholders 2 & 18"
   ]
  },
  {
   "cell_type": "markdown",
   "id": "24b3e2b3-fd98-41c1-9831-a2ed8cc89364",
   "metadata": {},
   "source": [
    "It looks as though there are several instances that could potetionally be hacks on both user's credit cards. I came to this conclusion because I have found a few transactions that were less than $2 sporadically in 2018. cardholder 18 has about 18 transactions that should be flagged as potetial fraud, where as cardholder 2 has about 10. I have created a couple graphs to help you visualize, and know which dates these transactions took place. "
   ]
  },
  {
   "cell_type": "code",
   "execution_count": 11,
   "id": "c3c2b31f-bd9e-4f30-8835-5977b15e9a78",
   "metadata": {},
   "outputs": [
    {
     "data": {
      "text/html": [
       "<img src=\"bokeh_plot(1).png\" width=\"700\" height=\"700\"/>"
      ],
      "text/plain": [
       "<IPython.core.display.Image object>"
      ]
     },
     "execution_count": 11,
     "metadata": {},
     "output_type": "execute_result"
    }
   ],
   "source": [
    "# import image module\n",
    "from IPython.display import Image\n",
    "  \n",
    "# get the image\n",
    "Image(url=\"bokeh_plot(1).png\", width=700, height=700)"
   ]
  },
  {
   "cell_type": "markdown",
   "id": "422a4c0b-bd0a-4724-897c-cf06b4764c21",
   "metadata": {},
   "source": []
  },
  {
   "cell_type": "code",
   "execution_count": 10,
   "id": "f02b777c-92b7-459f-9603-b93b6759ae79",
   "metadata": {},
   "outputs": [
    {
     "data": {
      "text/html": [
       "<img src=\"bokeh_plot(2).png\" width=\"700\" height=\"700\"/>"
      ],
      "text/plain": [
       "<IPython.core.display.Image object>"
      ]
     },
     "execution_count": 10,
     "metadata": {},
     "output_type": "execute_result"
    }
   ],
   "source": [
    "from IPython.display import Image\n",
    "  \n",
    "# get the image\n",
    "Image(url=\"bokeh_plot(2).png\", width=700, height=700)"
   ]
  },
  {
   "cell_type": "markdown",
   "id": "a1d0f6ab-895f-4a83-8d95-ba3a0fc8a998",
   "metadata": {},
   "source": [
    "The first graph shows all the transactions by each cardholder. In the second graph there are only transactions that were under $2 for each cardholder. All the transactions in the second graph are the ones that should be flagged for fradulent activity."
   ]
  },
  {
   "cell_type": "markdown",
   "id": "00819cb5-cf56-49f7-97af-8ce0fa7b0076",
   "metadata": {},
   "source": [
    "### Data Analysis for Cardholder 25"
   ]
  },
  {
   "cell_type": "markdown",
   "id": "f5fef082-2bd3-4a10-baf3-e954a572dd22",
   "metadata": {},
   "source": [
    "As you can see from the bar graph below, there are few transactions that I'd consider to be outliers. In January, March and May, there was 1 outlier per month, and in April and June, you can see that there were 3 per month. These are all transactions I'd look into if you're concerned the cardholder has been using it for expensive meals."
   ]
  },
  {
   "cell_type": "code",
   "execution_count": 12,
   "id": "4f5b574b-bfc9-42eb-ae4d-42b87e39bb44",
   "metadata": {},
   "outputs": [
    {
     "data": {
      "text/html": [
       "<img src=\"bokeh_plot(3).png\" width=\"700\" height=\"700\"/>"
      ],
      "text/plain": [
       "<IPython.core.display.Image object>"
      ]
     },
     "execution_count": 12,
     "metadata": {},
     "output_type": "execute_result"
    }
   ],
   "source": [
    "from IPython.display import Image\n",
    "  \n",
    "# get the image\n",
    "Image(url=\"bokeh_plot(3).png\", width=700, height=700)"
   ]
  }
 ],
 "metadata": {
  "kernelspec": {
   "display_name": "Python 3 (ipykernel)",
   "language": "python",
   "name": "python3"
  },
  "language_info": {
   "codemirror_mode": {
    "name": "ipython",
    "version": 3
   },
   "file_extension": ".py",
   "mimetype": "text/x-python",
   "name": "python",
   "nbconvert_exporter": "python",
   "pygments_lexer": "ipython3",
   "version": "3.9.12"
  }
 },
 "nbformat": 4,
 "nbformat_minor": 5
}
